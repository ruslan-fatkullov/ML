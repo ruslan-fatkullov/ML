{
 "cells": [
  {
   "cell_type": "code",
   "execution_count": 266,
   "id": "31ab7c07",
   "metadata": {},
   "outputs": [],
   "source": [
    "import numpy as np\n",
    "import pandas as pd\n",
    "from matplotlib import pyplot as plt\n",
    "# Graphics in SVG format are more sharp and legible\n",
    "%config InlineBackend.figure_format = 'svg'\n",
    "pd.set_option(\"display.precision\", 2)\n",
    "# Используем библиотеку Seaborn \n",
    "import seaborn as sns\n",
    "sns.set()"
   ]
  },
  {
   "cell_type": "code",
   "execution_count": 267,
   "id": "61517a1d",
   "metadata": {},
   "outputs": [],
   "source": [
    "data = pd.read_csv('data/titanic_train.csv',\n",
    "                  index_col='PassengerId')"
   ]
  },
  {
   "cell_type": "code",
   "execution_count": 268,
   "id": "2062d3dc",
   "metadata": {},
   "outputs": [
    {
     "name": "stdout",
     "output_type": "stream",
     "text": [
      "<class 'pandas.core.frame.DataFrame'>\n",
      "Int64Index: 891 entries, 1 to 891\n",
      "Data columns (total 11 columns):\n",
      " #   Column    Non-Null Count  Dtype  \n",
      "---  ------    --------------  -----  \n",
      " 0   Survived  891 non-null    int64  \n",
      " 1   Pclass    891 non-null    int64  \n",
      " 2   Name      891 non-null    object \n",
      " 3   Sex       891 non-null    object \n",
      " 4   Age       714 non-null    float64\n",
      " 5   SibSp     891 non-null    int64  \n",
      " 6   Parch     891 non-null    int64  \n",
      " 7   Ticket    891 non-null    object \n",
      " 8   Fare      891 non-null    float64\n",
      " 9   Cabin     204 non-null    object \n",
      " 10  Embarked  889 non-null    object \n",
      "dtypes: float64(2), int64(4), object(5)\n",
      "memory usage: 83.5+ KB\n"
     ]
    }
   ],
   "source": [
    "data.info()"
   ]
  },
  {
   "cell_type": "code",
   "execution_count": 269,
   "id": "716ae343",
   "metadata": {},
   "outputs": [
    {
     "data": {
      "text/html": [
       "<div>\n",
       "<style scoped>\n",
       "    .dataframe tbody tr th:only-of-type {\n",
       "        vertical-align: middle;\n",
       "    }\n",
       "\n",
       "    .dataframe tbody tr th {\n",
       "        vertical-align: top;\n",
       "    }\n",
       "\n",
       "    .dataframe thead th {\n",
       "        text-align: right;\n",
       "    }\n",
       "</style>\n",
       "<table border=\"1\" class=\"dataframe\">\n",
       "  <thead>\n",
       "    <tr style=\"text-align: right;\">\n",
       "      <th></th>\n",
       "      <th>Survived</th>\n",
       "      <th>Pclass</th>\n",
       "      <th>Name</th>\n",
       "      <th>Sex</th>\n",
       "      <th>Age</th>\n",
       "      <th>SibSp</th>\n",
       "      <th>Parch</th>\n",
       "      <th>Ticket</th>\n",
       "      <th>Fare</th>\n",
       "      <th>Cabin</th>\n",
       "      <th>Embarked</th>\n",
       "    </tr>\n",
       "    <tr>\n",
       "      <th>PassengerId</th>\n",
       "      <th></th>\n",
       "      <th></th>\n",
       "      <th></th>\n",
       "      <th></th>\n",
       "      <th></th>\n",
       "      <th></th>\n",
       "      <th></th>\n",
       "      <th></th>\n",
       "      <th></th>\n",
       "      <th></th>\n",
       "      <th></th>\n",
       "    </tr>\n",
       "  </thead>\n",
       "  <tbody>\n",
       "    <tr>\n",
       "      <th>1</th>\n",
       "      <td>0</td>\n",
       "      <td>3</td>\n",
       "      <td>Braund, Mr. Owen Harris</td>\n",
       "      <td>male</td>\n",
       "      <td>22.0</td>\n",
       "      <td>1</td>\n",
       "      <td>0</td>\n",
       "      <td>A/5 21171</td>\n",
       "      <td>7.25</td>\n",
       "      <td>NaN</td>\n",
       "      <td>S</td>\n",
       "    </tr>\n",
       "    <tr>\n",
       "      <th>2</th>\n",
       "      <td>1</td>\n",
       "      <td>1</td>\n",
       "      <td>Cumings, Mrs. John Bradley (Florence Briggs Th...</td>\n",
       "      <td>female</td>\n",
       "      <td>38.0</td>\n",
       "      <td>1</td>\n",
       "      <td>0</td>\n",
       "      <td>PC 17599</td>\n",
       "      <td>71.28</td>\n",
       "      <td>C85</td>\n",
       "      <td>C</td>\n",
       "    </tr>\n",
       "    <tr>\n",
       "      <th>3</th>\n",
       "      <td>1</td>\n",
       "      <td>3</td>\n",
       "      <td>Heikkinen, Miss. Laina</td>\n",
       "      <td>female</td>\n",
       "      <td>26.0</td>\n",
       "      <td>0</td>\n",
       "      <td>0</td>\n",
       "      <td>STON/O2. 3101282</td>\n",
       "      <td>7.92</td>\n",
       "      <td>NaN</td>\n",
       "      <td>S</td>\n",
       "    </tr>\n",
       "    <tr>\n",
       "      <th>4</th>\n",
       "      <td>1</td>\n",
       "      <td>1</td>\n",
       "      <td>Futrelle, Mrs. Jacques Heath (Lily May Peel)</td>\n",
       "      <td>female</td>\n",
       "      <td>35.0</td>\n",
       "      <td>1</td>\n",
       "      <td>0</td>\n",
       "      <td>113803</td>\n",
       "      <td>53.10</td>\n",
       "      <td>C123</td>\n",
       "      <td>S</td>\n",
       "    </tr>\n",
       "    <tr>\n",
       "      <th>5</th>\n",
       "      <td>0</td>\n",
       "      <td>3</td>\n",
       "      <td>Allen, Mr. William Henry</td>\n",
       "      <td>male</td>\n",
       "      <td>35.0</td>\n",
       "      <td>0</td>\n",
       "      <td>0</td>\n",
       "      <td>373450</td>\n",
       "      <td>8.05</td>\n",
       "      <td>NaN</td>\n",
       "      <td>S</td>\n",
       "    </tr>\n",
       "  </tbody>\n",
       "</table>\n",
       "</div>"
      ],
      "text/plain": [
       "             Survived  Pclass  \\\n",
       "PassengerId                     \n",
       "1                   0       3   \n",
       "2                   1       1   \n",
       "3                   1       3   \n",
       "4                   1       1   \n",
       "5                   0       3   \n",
       "\n",
       "                                                          Name     Sex   Age  \\\n",
       "PassengerId                                                                    \n",
       "1                                      Braund, Mr. Owen Harris    male  22.0   \n",
       "2            Cumings, Mrs. John Bradley (Florence Briggs Th...  female  38.0   \n",
       "3                                       Heikkinen, Miss. Laina  female  26.0   \n",
       "4                 Futrelle, Mrs. Jacques Heath (Lily May Peel)  female  35.0   \n",
       "5                                     Allen, Mr. William Henry    male  35.0   \n",
       "\n",
       "             SibSp  Parch            Ticket   Fare Cabin Embarked  \n",
       "PassengerId                                                        \n",
       "1                1      0         A/5 21171   7.25   NaN        S  \n",
       "2                1      0          PC 17599  71.28   C85        C  \n",
       "3                0      0  STON/O2. 3101282   7.92   NaN        S  \n",
       "4                1      0            113803  53.10  C123        S  \n",
       "5                0      0            373450   8.05   NaN        S  "
      ]
     },
     "execution_count": 269,
     "metadata": {},
     "output_type": "execute_result"
    }
   ],
   "source": [
    "data.head()"
   ]
  },
  {
   "cell_type": "code",
   "execution_count": 270,
   "id": "cad5dc48",
   "metadata": {
    "scrolled": true
   },
   "outputs": [],
   "source": [
    "data['Fare'] = data['Fare'].astype('float')"
   ]
  },
  {
   "cell_type": "code",
   "execution_count": 253,
   "id": "0d16a782",
   "metadata": {},
   "outputs": [
    {
     "name": "stdout",
     "output_type": "stream",
     "text": [
      "<class 'pandas.core.frame.DataFrame'>\n",
      "Int64Index: 891 entries, 1 to 891\n",
      "Data columns (total 11 columns):\n",
      " #   Column    Non-Null Count  Dtype  \n",
      "---  ------    --------------  -----  \n",
      " 0   Survived  891 non-null    int64  \n",
      " 1   Pclass    891 non-null    int64  \n",
      " 2   Name      891 non-null    object \n",
      " 3   Sex       891 non-null    object \n",
      " 4   Age       714 non-null    float64\n",
      " 5   SibSp     891 non-null    int64  \n",
      " 6   Parch     891 non-null    int64  \n",
      " 7   Ticket    891 non-null    object \n",
      " 8   Fare      891 non-null    float64\n",
      " 9   Cabin     204 non-null    object \n",
      " 10  Embarked  889 non-null    object \n",
      "dtypes: float64(2), int64(4), object(5)\n",
      "memory usage: 83.5+ KB\n",
      "None\n"
     ]
    }
   ],
   "source": [
    "print(data.info())\n"
   ]
  },
  {
   "cell_type": "code",
   "execution_count": 271,
   "id": "7accacc2",
   "metadata": {},
   "outputs": [
    {
     "data": {
      "text/plain": [
       "80.0"
      ]
     },
     "execution_count": 271,
     "metadata": {},
     "output_type": "execute_result"
    }
   ],
   "source": [
    "data['Age'].max()"
   ]
  },
  {
   "cell_type": "code",
   "execution_count": 272,
   "id": "198eb6b7",
   "metadata": {},
   "outputs": [
    {
     "data": {
      "text/plain": [
       "(184, 11)"
      ]
     },
     "execution_count": 272,
     "metadata": {},
     "output_type": "execute_result"
    }
   ],
   "source": [
    "class_23 = data[data[\"Pclass\"].isin([2])]\n",
    "class_23.shape"
   ]
  },
  {
   "cell_type": "markdown",
   "id": "ae29d46d",
   "metadata": {},
   "source": [
    "### 1. Сколько мужчин / женщин было на борту?"
   ]
  },
  {
   "cell_type": "code",
   "execution_count": 273,
   "id": "1c4108a4",
   "metadata": {},
   "outputs": [
    {
     "data": {
      "text/plain": [
       "male      577\n",
       "female    314\n",
       "Name: Sex, dtype: int64"
      ]
     },
     "execution_count": 273,
     "metadata": {},
     "output_type": "execute_result"
    }
   ],
   "source": [
    "data[\"Sex\"].value_counts()"
   ]
  },
  {
   "cell_type": "markdown",
   "id": "a1e98211",
   "metadata": {},
   "source": [
    "### 2. Определите распределение функции Pclass. Теперь Для мужчин и женщин отдельно. Сколько людей из второго класса было на борту?"
   ]
  },
  {
   "cell_type": "code",
   "execution_count": 274,
   "id": "b2f9b72d",
   "metadata": {},
   "outputs": [
    {
     "name": "stdout",
     "output_type": "stream",
     "text": [
      "count    891.00\n",
      "mean       2.31\n",
      "std        0.84\n",
      "min        1.00\n",
      "25%        2.00\n",
      "50%        3.00\n",
      "75%        3.00\n",
      "max        3.00\n",
      "Name: Pclass, dtype: float64\n",
      "\n",
      "count    577.00\n",
      "mean       2.39\n",
      "std        0.81\n",
      "min        1.00\n",
      "25%        2.00\n",
      "50%        3.00\n",
      "75%        3.00\n",
      "max        3.00\n",
      "Name: Pclass, dtype: float64\n",
      "\n",
      "count    314.00\n",
      "mean       2.16\n",
      "std        0.86\n",
      "min        1.00\n",
      "25%        1.00\n",
      "50%        2.00\n",
      "75%        3.00\n",
      "max        3.00\n",
      "Name: Pclass, dtype: float64\n"
     ]
    },
    {
     "data": {
      "text/plain": [
       "2    184\n",
       "Name: Pclass, dtype: int64"
      ]
     },
     "execution_count": 274,
     "metadata": {},
     "output_type": "execute_result"
    }
   ],
   "source": [
    "print(data['Pclass'].describe())\n",
    "print()\n",
    "men = data[data['Sex'] == 'male']\n",
    "woman = data[data['Sex'] == 'female']\n",
    "\n",
    "print(men['Pclass'].describe())\n",
    "print()\n",
    "print(woman['Pclass'].describe())\n",
    "\n",
    "\n",
    "\n",
    "data[data['Pclass'] == 2]['Pclass'].value_counts()\n",
    "\n"
   ]
  },
  {
   "cell_type": "markdown",
   "id": "27dd9971",
   "metadata": {},
   "source": [
    "### 3. Каковы медиана и стандартное отклонениеFare?. Округлите до 2-х знаков после запятой."
   ]
  },
  {
   "cell_type": "code",
   "execution_count": 275,
   "id": "927edce5",
   "metadata": {},
   "outputs": [
    {
     "name": "stdout",
     "output_type": "stream",
     "text": [
      "Медиана ->14.45 стандартное отклонение ->49.69\n"
     ]
    }
   ],
   "source": [
    "print('Медиана ->' + '{:.2f}'.format(data['Fare'].median()) + \" стандартное отклонение ->\"+ '{:.2f}'.format(data['Fare'].std()))"
   ]
  },
  {
   "cell_type": "markdown",
   "id": "ca42530f",
   "metadata": {},
   "source": [
    "### 4. Правда ли, что средний возраст выживших людей выше, чем у пассажиров, которые в конечном итоге умерли?\n"
   ]
  },
  {
   "cell_type": "code",
   "execution_count": 276,
   "id": "49a1a348",
   "metadata": {},
   "outputs": [
    {
     "name": "stdout",
     "output_type": "stream",
     "text": [
      "Средний возраст выживших 28.34\n",
      "Средний возраст погибших 30.63\n"
     ]
    }
   ],
   "source": [
    "surv = data[data['Survived'] == 1]\n",
    "nsurv = data[data['Survived'] == 0]\n",
    "print('Средний возраст выживших {:.2f}'.format(surv[\"Age\"].mean()))\n",
    "print('Средний возраст погибших {:.2f}'.format(nsurv[\"Age\"].mean()))"
   ]
  },
  {
   "cell_type": "markdown",
   "id": "02e08fe8",
   "metadata": {},
   "source": [
    "### 5. Это правда, что пассажиры моложе 30 лет. выжили чаще, чем те, кому больше 60 лет. Каковы доли выживших людей среди молодых и пожилых людей?"
   ]
  },
  {
   "cell_type": "code",
   "execution_count": 277,
   "id": "5f4c5773",
   "metadata": {},
   "outputs": [
    {
     "name": "stdout",
     "output_type": "stream",
     "text": [
      "Доля выживших среди молодых 40.6 %\n",
      "Доля выживших среди пожилых 22.7 %\n"
     ]
    }
   ],
   "source": [
    "young = data[data['Age'] < 30]\n",
    "old = data[data['Age'] > 60]\n",
    "print('Доля выживших среди молодых {:.1f} %'.format(young['Survived'].mean() * 100))\n",
    "print('Доля выживших среди пожилых {:.1f} %'.format(old['Survived'].mean() * 100))"
   ]
  },
  {
   "cell_type": "markdown",
   "id": "a130c251",
   "metadata": {},
   "source": [
    "### 6. Правда ли, что женщины выживали чаще мужчин? Каковы доли выживших людей среди мужчин и женщин?"
   ]
  },
  {
   "cell_type": "code",
   "execution_count": 278,
   "id": "15ab407c",
   "metadata": {},
   "outputs": [
    {
     "name": "stdout",
     "output_type": "stream",
     "text": [
      "Доля выживших среди мужчин 18.9 %\n",
      "Доля выживших среди женщин 74.2 %\n"
     ]
    }
   ],
   "source": [
    "men = data[data['Sex'] == 'male']\n",
    "woman = data[data['Sex'] == 'female']\n",
    "print('Доля выживших среди мужчин {:.1f} %'.format(men['Survived'].mean() * 100))\n",
    "print('Доля выживших среди женщин {:.1f} %'.format(woman['Survived'].mean() * 100))"
   ]
  },
  {
   "cell_type": "markdown",
   "id": "17d37dd7",
   "metadata": {},
   "source": [
    "### 7. Какое имя наиболее популярно среди пассажиров мужского пола? "
   ]
  },
  {
   "cell_type": "code",
   "execution_count": 360,
   "id": "e4f1c160",
   "metadata": {},
   "outputs": [
    {
     "data": {
      "text/plain": [
       "count         577\n",
       "unique        281\n",
       "top       William\n",
       "freq           35\n",
       "Name: Name, dtype: object"
      ]
     },
     "execution_count": 360,
     "metadata": {},
     "output_type": "execute_result"
    }
   ],
   "source": [
    "men = data[data['Sex'] == 'male']\n",
    "men[\"Name\"].str.split(\" \").str.get(2).describe()\n"
   ]
  },
  {
   "cell_type": "markdown",
   "id": "630cbc39",
   "metadata": {},
   "source": [
    "### 8. Как средний возраст мужчин / женщин зависит от Pclass? Выберите все правильные утверждения: \n",
    "В среднем мужчины 1 класса старше 40 лет\n",
    "\n",
    "В среднем женщины 1 класса старше 40 лет\n",
    "\n",
    "Мужчины всех классов в среднем старше, чем женщины того же класса\n",
    "\n",
    "В среднем, пассажиры первого класса старше, чем пассажиры 2-го класса, которые старше, чем пассажиры 3-го класса."
   ]
  },
  {
   "cell_type": "code",
   "execution_count": 412,
   "id": "264daca9",
   "metadata": {},
   "outputs": [
    {
     "name": "stdout",
     "output_type": "stream",
     "text": [
      "38.23\n",
      "Sex\n",
      "female    34.61\n",
      "male      41.28\n",
      "Name: Age, dtype: float64\n",
      "\n",
      "29.88\n",
      "Sex\n",
      "female    28.72\n",
      "male      30.74\n",
      "Name: Age, dtype: float64\n",
      "\n",
      "25.14\n",
      "Sex\n",
      "female    21.75\n",
      "male      26.51\n",
      "Name: Age, dtype: float64\n"
     ]
    }
   ],
   "source": [
    "fClass =  data[data['Pclass'] == 1]\n",
    "sClass = data[data['Pclass'] == 2]\n",
    "tClass = data[data['Pclass'] == 3]\n",
    "\n",
    "print( '{:.2f}'.format(fClass[\"Age\"].mean()))\n",
    "print(fClass.groupby('Sex')[\"Age\"].mean())\n",
    "print()\n",
    "print( '{:.2f}'.format(sClass[\"Age\"].mean()))\n",
    "print(sClass.groupby('Sex')[\"Age\"].mean())\n",
    "print()\n",
    "print( '{:.2f}'.format(tClass[\"Age\"].mean()))\n",
    "print(tClass.groupby('Sex')[\"Age\"].mean())"
   ]
  },
  {
   "cell_type": "code",
   "execution_count": null,
   "id": "773684ae",
   "metadata": {},
   "outputs": [],
   "source": []
  }
 ],
 "metadata": {
  "kernelspec": {
   "display_name": "Python 3 (ipykernel)",
   "language": "python",
   "name": "python3"
  },
  "language_info": {
   "codemirror_mode": {
    "name": "ipython",
    "version": 3
   },
   "file_extension": ".py",
   "mimetype": "text/x-python",
   "name": "python",
   "nbconvert_exporter": "python",
   "pygments_lexer": "ipython3",
   "version": "3.8.8"
  }
 },
 "nbformat": 4,
 "nbformat_minor": 5
}
